{
 "cells": [
  {
   "cell_type": "markdown",
   "metadata": {},
   "source": [
    "# Prov4ML Pytorch Lightning MNIST Example\n",
    "\n",
    "This notebook is a simple example of how to use Prov4ML with Pytorch Lightning and MNIST dataset. The task is simple digit classification using an MLP model."
   ]
  },
  {
   "cell_type": "markdown",
   "metadata": {},
   "source": [
    "#### Importing Libraries and Constants"
   ]
  },
  {
   "cell_type": "code",
   "execution_count": 1,
   "metadata": {},
   "outputs": [
    {
     "name": "stderr",
     "output_type": "stream",
     "text": [
      "/opt/homebrew/lib/python3.11/site-packages/tqdm/auto.py:21: TqdmWarning: IProgress not found. Please update jupyter and ipywidgets. See https://ipywidgets.readthedocs.io/en/stable/user_install.html\n",
      "  from .autonotebook import tqdm as notebook_tqdm\n"
     ]
    }
   ],
   "source": [
    "import lightning as L\n",
    "import torch\n",
    "import torch.nn.functional as F\n",
    "from torchvision.datasets import MNIST\n",
    "from torchvision import transforms\n",
    "from torch.utils.data import DataLoader, Subset\n",
    "\n",
    "import prov4ml"
   ]
  },
  {
   "cell_type": "code",
   "execution_count": 2,
   "metadata": {},
   "outputs": [],
   "source": [
    "PATH_DATASETS = \"./data\"\n",
    "BATCH_SIZE = 64\n",
    "EPOCHS = 1"
   ]
  },
  {
   "cell_type": "markdown",
   "metadata": {},
   "source": [
    "#### Create Run, Experiment and start logging\n",
    "\n",
    "Initialize a new run within an experiment and start logging provenance data. \n",
    "This call specifies a user namespace, naming the experiment, defining the directory for saving provenance logs, and setting the logging frequency. \n",
    " - **prov_user_namespace**: The unique identifier for the user or organization, ensuring the provenance data is correctly attributed.\n",
    " - **experiment_name**: The name of the experiment, used to group related runs together.\n",
    " - **provenance_save_dir**: The directory where the provenance logs are stored.\n",
    " - **save_after_n_logs**: The interval for saving logs to file, to empty the variables saved in memory."
   ]
  },
  {
   "cell_type": "code",
   "execution_count": null,
   "metadata": {},
   "outputs": [],
   "source": [
    "prov4ml.start_run(\n",
    "    prov_user_namespace=\"www.example.org\",\n",
    "    experiment_name=\"experiment_name\", \n",
    "    provenance_save_dir=\"prov\",\n",
    "    save_after_n_logs=100,\n",
    ")"
   ]
  },
  {
   "cell_type": "markdown",
   "metadata": {},
   "source": [
    "#### Define the Pytorch Lightning Model\n",
    "\n",
    "Prov4ml allows to log various metrics and parameters to ensure comprehensive tracking of the experiment’s provenance.\n",
    "- **log_metric**: Logs a metric value to the provenance data, keeping track of the value, time, epoch and context.\n",
    "- **log_parameters**:  Logs the parameters used in the experiment to the provenance data."
   ]
  },
  {
   "cell_type": "code",
   "execution_count": 3,
   "metadata": {},
   "outputs": [],
   "source": [
    "class MNISTModel(L.LightningModule):\n",
    "    def __init__(self):\n",
    "        super().__init__()\n",
    "        self.model = torch.nn.Sequential(\n",
    "            torch.nn.Linear(28 * 28, 10), \n",
    "        )\n",
    "\n",
    "    def forward(self, x):\n",
    "        return self.model(x.view(x.size(0), -1))\n",
    "\n",
    "  \n",
    "    def training_step(self, batch, _):\n",
    "        x, y = batch\n",
    "        loss = F.cross_entropy(self(x), y)\n",
    "        prov4ml.log_metric(\"MSE\", loss, prov4ml.Context.TRAINING, step=self.current_epoch)\n",
    "        return loss\n",
    "    \n",
    "    def validation_step(self, batch, _):\n",
    "        x, y = batch\n",
    "        loss = F.cross_entropy(self(x), y)\n",
    "        prov4ml.log_metric(\"MSE\", loss, prov4ml.Context.VALIDATION, step=self.current_epoch)\n",
    "        return loss\n",
    "    \n",
    "    def test_step(self, batch, _):\n",
    "        x, y = batch\n",
    "        loss = F.cross_entropy(self(x), y)\n",
    "        prov4ml.log_metric(\"MSE\",loss,prov4ml.Context.EVALUATION,step=self.current_epoch)\n",
    "        return loss\n",
    "    \n",
    "    def on_train_epoch_end(self) -> None:\n",
    "        prov4ml.log_metric(\"epoch\", self.current_epoch, prov4ml.Context.TRAINING, step=self.current_epoch)\n",
    "        prov4ml.log_system_metrics(prov4ml.Context.TRAINING,step=self.current_epoch)\n",
    "        prov4ml.log_carbon_metrics(prov4ml.Context.TRAINING,step=self.current_epoch)\n",
    "        prov4ml.save_model_version(self, f\"model_version_{self.current_epoch}\", prov4ml.Context.TRAINING, step=self.current_epoch)\n",
    "        prov4ml.log_current_execution_time(\"train_epoch_time\", prov4ml.Context.TRAINING, self.current_epoch)\n",
    "\n",
    "    def configure_optimizers(self):\n",
    "        optim = torch.optim.Adam(self.parameters(), lr=0.0002)\n",
    "        prov4ml.log_param(\"optimizer\", optim)\n",
    "        return optim\n"
   ]
  },
  {
   "cell_type": "markdown",
   "metadata": {},
   "source": [
    "#### Dataset and DataLoader definition, instantiate the model and the trainer\n",
    "\n",
    "When defining the dataset transformations, datasets and data loaders, prov4ml allows logging of relevant information through the `log_dataset`  and `log_param` functions. \n",
    "- **log_dataset**: Logs various information extracted from the dataset used in the experiment."
   ]
  },
  {
   "cell_type": "code",
   "execution_count": 5,
   "metadata": {},
   "outputs": [],
   "source": [
    "\n",
    "tform = transforms.Compose([\n",
    "    transforms.RandomRotation(10), \n",
    "    transforms.RandomHorizontalFlip(),\n",
    "    transforms.RandomVerticalFlip(),\n",
    "    transforms.ToTensor()\n",
    "])\n",
    "# log the dataset transformation as one-time parameter\n",
    "prov4ml.log_param(\"dataset_transformation\", tform)\n",
    "\n",
    "train_ds = MNIST(PATH_DATASETS, train=True, download=True, transform=tform)\n",
    "test_ds = MNIST(PATH_DATASETS, train=False, download=True, transform=tform)\n",
    "val_ds = Subset(train_ds, range(BATCH_SIZE * 1))\n",
    "train_ds = Subset(train_ds, range(BATCH_SIZE * 2))\n",
    "test_ds = Subset(test_ds, range(BATCH_SIZE * 2))\n",
    "\n",
    "train_loader = DataLoader(train_ds, batch_size=BATCH_SIZE)\n",
    "val_loader = DataLoader(val_ds, batch_size=BATCH_SIZE)\n",
    "test_loader = DataLoader(test_ds, batch_size=BATCH_SIZE)\n",
    "\n",
    "prov4ml.log_dataset(train_loader, \"train_dataset\")\n",
    "prov4ml.log_dataset(val_loader, \"val_dataset\")\n",
    "prov4ml.log_dataset(test_loader, \"test_dataset\")"
   ]
  },
  {
   "cell_type": "code",
   "execution_count": 6,
   "metadata": {},
   "outputs": [
    {
     "name": "stderr",
     "output_type": "stream",
     "text": [
      "GPU available: True (mps), used: True\n",
      "TPU available: False, using: 0 TPU cores\n",
      "IPU available: False, using: 0 IPUs\n",
      "HPU available: False, using: 0 HPUs\n"
     ]
    }
   ],
   "source": [
    "mnist_model = MNISTModel()\n",
    "trainer = L.Trainer(\n",
    "    accelerator=\"cpu\",\n",
    "    devices=1,\n",
    "    max_epochs=EPOCHS,\n",
    "    enable_checkpointing=False, \n",
    ")"
   ]
  },
  {
   "cell_type": "markdown",
   "metadata": {},
   "source": [
    "#### Train the model\n",
    "\n",
    "Train the MNIST model using PyTorch Lightning Trainer, then log the final model version using prov4ml, and evaluate the model on the test dataset.\n",
    "- **log_model**: Logs the model to the provenance data, including the model architecture, parameters, and weights."
   ]
  },
  {
   "cell_type": "code",
   "execution_count": 7,
   "metadata": {},
   "outputs": [
    {
     "name": "stderr",
     "output_type": "stream",
     "text": [
      "Missing logger folder: /Users/gabrielepadovani/Desktop/Università/PhD/provenance/lightning_logs\n",
      "\n",
      "  | Name  | Type       | Params\n",
      "-------------------------------------\n",
      "0 | model | Sequential | 7.9 K \n",
      "-------------------------------------\n",
      "7.9 K     Trainable params\n",
      "0         Non-trainable params\n",
      "7.9 K     Total params\n",
      "0.031     Total estimated model params size (MB)\n"
     ]
    },
    {
     "name": "stdout",
     "output_type": "stream",
     "text": [
      "                                                                           "
     ]
    },
    {
     "name": "stderr",
     "output_type": "stream",
     "text": [
      "/opt/homebrew/lib/python3.11/site-packages/lightning/pytorch/trainer/connectors/data_connector.py:441: The 'val_dataloader' does not have many workers which may be a bottleneck. Consider increasing the value of the `num_workers` argument` to `num_workers=9` in the `DataLoader` to improve performance.\n",
      "/opt/homebrew/lib/python3.11/site-packages/lightning/pytorch/trainer/connectors/data_connector.py:441: The 'train_dataloader' does not have many workers which may be a bottleneck. Consider increasing the value of the `num_workers` argument` to `num_workers=9` in the `DataLoader` to improve performance.\n",
      "/opt/homebrew/lib/python3.11/site-packages/lightning/pytorch/loops/fit_loop.py:298: The number of training batches (2) is smaller than the logging interval Trainer(log_every_n_steps=50). Set a lower value for log_every_n_steps if you want to see logs for the training epoch.\n"
     ]
    },
    {
     "name": "stdout",
     "output_type": "stream",
     "text": [
      "Epoch 0: 100%|██████████| 2/2 [00:00<00:00, 17.65it/s, v_num=0]"
     ]
    },
    {
     "name": "stderr",
     "output_type": "stream",
     "text": [
      "`Trainer.fit` stopped: `max_epochs=1` reached.\n"
     ]
    },
    {
     "name": "stdout",
     "output_type": "stream",
     "text": [
      "Epoch 0: 100%|██████████| 2/2 [00:00<00:00, 17.11it/s, v_num=0]\n"
     ]
    },
    {
     "name": "stderr",
     "output_type": "stream",
     "text": [
      "/opt/homebrew/lib/python3.11/site-packages/lightning/pytorch/trainer/connectors/data_connector.py:441: The 'test_dataloader' does not have many workers which may be a bottleneck. Consider increasing the value of the `num_workers` argument` to `num_workers=9` in the `DataLoader` to improve performance.\n"
     ]
    },
    {
     "name": "stdout",
     "output_type": "stream",
     "text": [
      "Testing DataLoader 0: 100%|██████████| 2/2 [00:00<00:00, 106.20it/s]\n"
     ]
    }
   ],
   "source": [
    "trainer.fit(mnist_model, train_loader, val_dataloaders=val_loader)\n",
    "\n",
    "prov4ml.log_model(mnist_model, \"model_version_final\")\n",
    "\n",
    "result = trainer.test(mnist_model, test_loader)"
   ]
  },
  {
   "cell_type": "markdown",
   "metadata": {},
   "source": [
    "#### Save the training information to ProvJSON\n",
    "\n",
    "Save the provenance data to a ProvJSON file for further analysis and visualization. "
   ]
  },
  {
   "cell_type": "code",
   "execution_count": 8,
   "metadata": {},
   "outputs": [
    {
     "name": "stdout",
     "output_type": "stream",
     "text": [
      "Git not found, skipping commit hash retrieval\n"
     ]
    },
    {
     "name": "stderr",
     "output_type": "stream",
     "text": [
      "fatal: not a git repository (or any of the parent directories): .git\n"
     ]
    }
   ],
   "source": [
    "prov4ml.end_run(create_graph=True, create_svg=True)"
   ]
  }
 ],
 "metadata": {
  "kernelspec": {
   "display_name": "Python 3",
   "language": "python",
   "name": "python3"
  },
  "language_info": {
   "codemirror_mode": {
    "name": "ipython",
    "version": 3
   },
   "file_extension": ".py",
   "mimetype": "text/x-python",
   "name": "python",
   "nbconvert_exporter": "python",
   "pygments_lexer": "ipython3",
   "version": "3.11.9"
  }
 },
 "nbformat": 4,
 "nbformat_minor": 2
}
